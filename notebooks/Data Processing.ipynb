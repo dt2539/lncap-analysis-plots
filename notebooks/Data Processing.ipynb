{
 "cells": [
  {
   "cell_type": "code",
   "execution_count": 1,
   "metadata": {},
   "outputs": [
    {
     "name": "stderr",
     "output_type": "stream",
     "text": [
      "IOPub data rate exceeded.\n",
      "The notebook server will temporarily stop sending output\n",
      "to the client in order to avoid crashing it.\n",
      "To change this limit, set the config variable\n",
      "`--NotebookApp.iopub_data_rate_limit`.\n"
     ]
    }
   ],
   "source": [
    "%run /Users/maayanlab/Documents/init.ipy\n",
    "os.chdir('..')"
   ]
  },
  {
   "cell_type": "markdown",
   "metadata": {},
   "source": [
    "### Infiles"
   ]
  },
  {
   "cell_type": "code",
   "execution_count": 2,
   "metadata": {
    "collapsed": true
   },
   "outputs": [],
   "source": [
    "infile = 'rawdata/prem_prostate-combined_result_table_druggable.txt'"
   ]
  },
  {
   "cell_type": "markdown",
   "metadata": {},
   "source": [
    "### Computation"
   ]
  },
  {
   "cell_type": "code",
   "execution_count": 3,
   "metadata": {},
   "outputs": [
    {
     "data": {
      "text/html": [
       "<div>\n",
       "<table border=\"1\" class=\"dataframe\">\n",
       "  <thead>\n",
       "    <tr style=\"text-align: right;\">\n",
       "      <th></th>\n",
       "      <th>entrez_id</th>\n",
       "      <th>gene_symbol</th>\n",
       "      <th>logfc</th>\n",
       "      <th>nes</th>\n",
       "      <th>moa</th>\n",
       "      <th>combined</th>\n",
       "      <th>selected</th>\n",
       "      <th>null</th>\n",
       "      <th>drugs</th>\n",
       "      <th>drug_labels</th>\n",
       "    </tr>\n",
       "  </thead>\n",
       "  <tbody>\n",
       "    <tr>\n",
       "      <th>61</th>\n",
       "      <td>79898</td>\n",
       "      <td>ZNF613</td>\n",
       "      <td>-2.026473</td>\n",
       "      <td>-2.775676</td>\n",
       "      <td>3.656572</td>\n",
       "      <td>-0.622887</td>\n",
       "      <td>True</td>\n",
       "      <td>True</td>\n",
       "      <td>0</td>\n",
       "      <td>NaN</td>\n",
       "    </tr>\n",
       "    <tr>\n",
       "      <th>62</th>\n",
       "      <td>79921</td>\n",
       "      <td>TCEAL4</td>\n",
       "      <td>-0.681810</td>\n",
       "      <td>-2.745105</td>\n",
       "      <td>1.963373</td>\n",
       "      <td>0.552768</td>\n",
       "      <td>True</td>\n",
       "      <td>True</td>\n",
       "      <td>0</td>\n",
       "      <td>NaN</td>\n",
       "    </tr>\n",
       "    <tr>\n",
       "      <th>8</th>\n",
       "      <td>10481</td>\n",
       "      <td>HOXB13</td>\n",
       "      <td>-0.864521</td>\n",
       "      <td>-2.589535</td>\n",
       "      <td>10.152984</td>\n",
       "      <td>-5.348167</td>\n",
       "      <td>True</td>\n",
       "      <td>False</td>\n",
       "      <td>0</td>\n",
       "      <td>NaN</td>\n",
       "    </tr>\n",
       "    <tr>\n",
       "      <th>34</th>\n",
       "      <td>3664</td>\n",
       "      <td>IRF6</td>\n",
       "      <td>-1.511285</td>\n",
       "      <td>-2.516363</td>\n",
       "      <td>11.132734</td>\n",
       "      <td>-6.092694</td>\n",
       "      <td>True</td>\n",
       "      <td>False</td>\n",
       "      <td>0</td>\n",
       "      <td>NaN</td>\n",
       "    </tr>\n",
       "    <tr>\n",
       "      <th>51</th>\n",
       "      <td>57630</td>\n",
       "      <td>SH3RF1</td>\n",
       "      <td>-3.157963</td>\n",
       "      <td>-2.424530</td>\n",
       "      <td>6.518297</td>\n",
       "      <td>-2.894730</td>\n",
       "      <td>True</td>\n",
       "      <td>False</td>\n",
       "      <td>0</td>\n",
       "      <td>NaN</td>\n",
       "    </tr>\n",
       "  </tbody>\n",
       "</table>\n",
       "</div>"
      ],
      "text/plain": [
       "    entrez_id gene_symbol     logfc       nes        moa  combined selected  \\\n",
       "61      79898      ZNF613 -2.026473 -2.775676   3.656572 -0.622887     True   \n",
       "62      79921      TCEAL4 -0.681810 -2.745105   1.963373  0.552768     True   \n",
       "8       10481      HOXB13 -0.864521 -2.589535  10.152984 -5.348167     True   \n",
       "34       3664        IRF6 -1.511285 -2.516363  11.132734 -6.092694     True   \n",
       "51      57630      SH3RF1 -3.157963 -2.424530   6.518297 -2.894730     True   \n",
       "\n",
       "     null  drugs drug_labels  \n",
       "61   True      0         NaN  \n",
       "62   True      0         NaN  \n",
       "8   False      0         NaN  \n",
       "34  False      0         NaN  \n",
       "51  False      0         NaN  "
      ]
     },
     "execution_count": 3,
     "metadata": {},
     "output_type": "execute_result"
    }
   ],
   "source": [
    "# Read data\n",
    "combined_dataframe = pd.read_table(infile)\n",
    "combined_dataframe = combined_dataframe[combined_dataframe['selected']].sort_values('nes', ascending=True)\n",
    "combined_dataframe.head()"
   ]
  },
  {
   "cell_type": "markdown",
   "metadata": {},
   "source": [
    "##### Combined Results"
   ]
  },
  {
   "cell_type": "code",
   "execution_count": 4,
   "metadata": {
    "collapsed": true
   },
   "outputs": [],
   "source": [
    "combined_dataframe[combined_dataframe['selected']].to_csv('data/combined_results.txt', index=False)"
   ]
  },
  {
   "cell_type": "markdown",
   "metadata": {},
   "source": [
    "##### Genes"
   ]
  },
  {
   "cell_type": "code",
   "execution_count": 205,
   "metadata": {},
   "outputs": [
    {
     "data": {
      "text/html": [
       "<div>\n",
       "<table border=\"1\" class=\"dataframe\">\n",
       "  <thead>\n",
       "    <tr style=\"text-align: right;\">\n",
       "      <th></th>\n",
       "      <th>gene_symbol</th>\n",
       "      <th>len</th>\n",
       "      <th>id</th>\n",
       "      <th>label</th>\n",
       "      <th>color</th>\n",
       "    </tr>\n",
       "  </thead>\n",
       "  <tbody>\n",
       "    <tr>\n",
       "      <th>887</th>\n",
       "      <td>ZNF613</td>\n",
       "      <td>11</td>\n",
       "      <td>ZNF613</td>\n",
       "      <td>ZNF613</td>\n",
       "      <td>white</td>\n",
       "    </tr>\n",
       "    <tr>\n",
       "      <th>977</th>\n",
       "      <td>TCEAL4</td>\n",
       "      <td>11</td>\n",
       "      <td>TCEAL4</td>\n",
       "      <td>TCEAL4</td>\n",
       "      <td>white</td>\n",
       "    </tr>\n",
       "    <tr>\n",
       "      <th>81</th>\n",
       "      <td>HOXB13</td>\n",
       "      <td>11</td>\n",
       "      <td>HOXB13</td>\n",
       "      <td>HOXB13</td>\n",
       "      <td>white</td>\n",
       "    </tr>\n",
       "    <tr>\n",
       "      <th>57</th>\n",
       "      <td>IRF6</td>\n",
       "      <td>11</td>\n",
       "      <td>IRF6</td>\n",
       "      <td>IRF6</td>\n",
       "      <td>white</td>\n",
       "    </tr>\n",
       "    <tr>\n",
       "      <th>73</th>\n",
       "      <td>WFS1</td>\n",
       "      <td>11</td>\n",
       "      <td>WFS1</td>\n",
       "      <td>WFS1</td>\n",
       "      <td>white</td>\n",
       "    </tr>\n",
       "  </tbody>\n",
       "</table>\n",
       "</div>"
      ],
      "text/plain": [
       "    gene_symbol  len      id   label  color\n",
       "887      ZNF613   11  ZNF613  ZNF613  white\n",
       "977      TCEAL4   11  TCEAL4  TCEAL4  white\n",
       "81       HOXB13   11  HOXB13  HOXB13  white\n",
       "57         IRF6   11    IRF6    IRF6  white\n",
       "73         WFS1   11    WFS1    WFS1  white"
      ]
     },
     "execution_count": 205,
     "metadata": {},
     "output_type": "execute_result"
    }
   ],
   "source": [
    "gene_dataframe = combined_dataframe['gene_symbol'].to_frame()\n",
    "gene_dataframe['len'] = 11\n",
    "gene_dataframe['id'] = gene_dataframe['gene_symbol']\n",
    "gene_dataframe['label'] = gene_dataframe['gene_symbol']\n",
    "gene_dataframe['color'] = \"white\"\n",
    "gene_dataframe.head()"
   ]
  },
  {
   "cell_type": "code",
   "execution_count": 234,
   "metadata": {
    "collapsed": true
   },
   "outputs": [],
   "source": [
    "with open('data/genes.json', 'w') as openfile:\n",
    "    openfile.write(json.dumps(gene_dataframe.drop('gene_symbol', axis=1).to_dict(orient='records'), indent=4))"
   ]
  },
  {
   "cell_type": "markdown",
   "metadata": {},
   "source": [
    "##### PrePPI"
   ]
  },
  {
   "cell_type": "code",
   "execution_count": 35,
   "metadata": {
    "collapsed": true
   },
   "outputs": [],
   "source": [
    "%R load('./rawdata/preppi2013.rda')\n",
    "%Rpull preppi"
   ]
  },
  {
   "cell_type": "code",
   "execution_count": 60,
   "metadata": {
    "collapsed": true
   },
   "outputs": [],
   "source": [
    "preppi.to_csv('data/preppi.txt', sep='\\t', index=False)"
   ]
  },
  {
   "cell_type": "code",
   "execution_count": 146,
   "metadata": {},
   "outputs": [
    {
     "data": {
      "text/html": [
       "<div>\n",
       "<table border=\"1\" class=\"dataframe\">\n",
       "  <thead>\n",
       "    <tr style=\"text-align: right;\">\n",
       "      <th></th>\n",
       "      <th>EntID_a</th>\n",
       "      <th>EntID_b</th>\n",
       "      <th>prob</th>\n",
       "    </tr>\n",
       "  </thead>\n",
       "  <tbody>\n",
       "    <tr>\n",
       "      <th>1</th>\n",
       "      <td>54502</td>\n",
       "      <td>54502</td>\n",
       "      <td>0.49</td>\n",
       "    </tr>\n",
       "    <tr>\n",
       "      <th>2</th>\n",
       "      <td>79733</td>\n",
       "      <td>54502</td>\n",
       "      <td>0.07</td>\n",
       "    </tr>\n",
       "    <tr>\n",
       "      <th>3</th>\n",
       "      <td>79733</td>\n",
       "      <td>79733</td>\n",
       "      <td>0.41</td>\n",
       "    </tr>\n",
       "    <tr>\n",
       "      <th>4</th>\n",
       "      <td>55236</td>\n",
       "      <td>55236</td>\n",
       "      <td>0.37</td>\n",
       "    </tr>\n",
       "    <tr>\n",
       "      <th>5</th>\n",
       "      <td>57488</td>\n",
       "      <td>54502</td>\n",
       "      <td>0.03</td>\n",
       "    </tr>\n",
       "  </tbody>\n",
       "</table>\n",
       "</div>"
      ],
      "text/plain": [
       "   EntID_a  EntID_b  prob\n",
       "1    54502    54502  0.49\n",
       "2    79733    54502  0.07\n",
       "3    79733    79733  0.41\n",
       "4    55236    55236  0.37\n",
       "5    57488    54502  0.03"
      ]
     },
     "execution_count": 146,
     "metadata": {},
     "output_type": "execute_result"
    }
   ],
   "source": [
    "# Filter\n",
    "preppi_filtered = preppi.replace('-', np.nan).dropna()\n",
    "preppi_filtered['EntID_a'] = preppi_filtered['EntID_a'].astype('int')\n",
    "preppi_filtered['EntID_b'] = preppi_filtered['EntID_b'].astype('int')\n",
    "preppi_filtered = pd.concat([preppi_filtered, preppi_filtered.rename(columns={'EntID_a': 'sEntID_a', 'EntID_b': 'sEntID_b'}).rename(columns={'sEntID_b':'EntID_a', 'sEntID_a':'EntID_b'})])\n",
    "preppi_filtered.head()\n"
   ]
  },
  {
   "cell_type": "code",
   "execution_count": 147,
   "metadata": {},
   "outputs": [
    {
     "data": {
      "text/html": [
       "<div>\n",
       "<table border=\"1\" class=\"dataframe\">\n",
       "  <thead>\n",
       "    <tr style=\"text-align: right;\">\n",
       "      <th></th>\n",
       "      <th>gene_symbol</th>\n",
       "      <th>entrez_id</th>\n",
       "    </tr>\n",
       "  </thead>\n",
       "  <tbody>\n",
       "    <tr>\n",
       "      <th>4</th>\n",
       "      <td>CDH1</td>\n",
       "      <td>999</td>\n",
       "    </tr>\n",
       "    <tr>\n",
       "      <th>1</th>\n",
       "      <td>PTTG1</td>\n",
       "      <td>9232</td>\n",
       "    </tr>\n",
       "    <tr>\n",
       "      <th>3</th>\n",
       "      <td>CDK4</td>\n",
       "      <td>1019</td>\n",
       "    </tr>\n",
       "    <tr>\n",
       "      <th>57</th>\n",
       "      <td>IRF6</td>\n",
       "      <td>3664</td>\n",
       "    </tr>\n",
       "    <tr>\n",
       "      <th>7</th>\n",
       "      <td>TOP2A</td>\n",
       "      <td>7153</td>\n",
       "    </tr>\n",
       "  </tbody>\n",
       "</table>\n",
       "</div>"
      ],
      "text/plain": [
       "   gene_symbol  entrez_id\n",
       "4         CDH1        999\n",
       "1        PTTG1       9232\n",
       "3         CDK4       1019\n",
       "57        IRF6       3664\n",
       "7        TOP2A       7153"
      ]
     },
     "execution_count": 147,
     "metadata": {},
     "output_type": "execute_result"
    }
   ],
   "source": [
    "# Get PrePPI\n",
    "gene_dataframe = combined_dataframe.loc[combined_dataframe['selected'], ['gene_symbol', 'entrez_id']]\n",
    "gene_dataframe['entrez_id'] = gene_dataframe['entrez_id'].astype('int')\n",
    "gene_dataframe.head()"
   ]
  },
  {
   "cell_type": "code",
   "execution_count": 148,
   "metadata": {},
   "outputs": [
    {
     "data": {
      "text/html": [
       "<div>\n",
       "<table border=\"1\" class=\"dataframe\">\n",
       "  <thead>\n",
       "    <tr style=\"text-align: right;\">\n",
       "      <th></th>\n",
       "      <th>gene_symbol_a</th>\n",
       "      <th>gene_symbol_b</th>\n",
       "      <th>prob</th>\n",
       "    </tr>\n",
       "  </thead>\n",
       "  <tbody>\n",
       "    <tr>\n",
       "      <th>0</th>\n",
       "      <td>UBE2C</td>\n",
       "      <td>UBE2C</td>\n",
       "      <td>1.00</td>\n",
       "    </tr>\n",
       "    <tr>\n",
       "      <th>2</th>\n",
       "      <td>CHEK1</td>\n",
       "      <td>UBE2C</td>\n",
       "      <td>0.77</td>\n",
       "    </tr>\n",
       "    <tr>\n",
       "      <th>3</th>\n",
       "      <td>NDC80</td>\n",
       "      <td>UBE2C</td>\n",
       "      <td>0.70</td>\n",
       "    </tr>\n",
       "    <tr>\n",
       "      <th>4</th>\n",
       "      <td>AURKA</td>\n",
       "      <td>UBE2C</td>\n",
       "      <td>0.87</td>\n",
       "    </tr>\n",
       "    <tr>\n",
       "      <th>5</th>\n",
       "      <td>ARHGAP6</td>\n",
       "      <td>UBE2C</td>\n",
       "      <td>0.17</td>\n",
       "    </tr>\n",
       "  </tbody>\n",
       "</table>\n",
       "</div>"
      ],
      "text/plain": [
       "  gene_symbol_a gene_symbol_b  prob\n",
       "0         UBE2C         UBE2C  1.00\n",
       "2         CHEK1         UBE2C  0.77\n",
       "3         NDC80         UBE2C  0.70\n",
       "4         AURKA         UBE2C  0.87\n",
       "5       ARHGAP6         UBE2C  0.17"
      ]
     },
     "execution_count": 148,
     "metadata": {},
     "output_type": "execute_result"
    }
   ],
   "source": [
    "interaction_dataframe = preppi_filtered.merge(gene_dataframe, left_on='EntID_a', right_on='entrez_id', how='inner').rename(columns={'gene_symbol': 'gene_symbol_a'}).merge(gene_dataframe, left_on='EntID_b', right_on='entrez_id', how='inner').rename(columns={'gene_symbol': 'gene_symbol_b'})[['gene_symbol_a', 'gene_symbol_b', 'prob']].drop_duplicates()\n",
    "interaction_dataframe.head()"
   ]
  },
  {
   "cell_type": "code",
   "execution_count": 220,
   "metadata": {},
   "outputs": [
    {
     "name": "stdout",
     "output_type": "stream",
     "text": [
      "(134, 7)\n"
     ]
    },
    {
     "data": {
      "text/html": [
       "<div>\n",
       "<table border=\"1\" class=\"dataframe\">\n",
       "  <thead>\n",
       "    <tr style=\"text-align: right;\">\n",
       "      <th></th>\n",
       "      <th>gene_symbol_a</th>\n",
       "      <th>a_start</th>\n",
       "      <th>a_end</th>\n",
       "      <th>gene_symbol_b</th>\n",
       "      <th>b_start</th>\n",
       "      <th>b_end</th>\n",
       "      <th>prob</th>\n",
       "    </tr>\n",
       "  </thead>\n",
       "  <tbody>\n",
       "    <tr>\n",
       "      <th>6</th>\n",
       "      <td>BUB1B</td>\n",
       "      <td>4</td>\n",
       "      <td>6</td>\n",
       "      <td>UBE2C</td>\n",
       "      <td>4</td>\n",
       "      <td>6</td>\n",
       "      <td>1.00</td>\n",
       "    </tr>\n",
       "    <tr>\n",
       "      <th>20</th>\n",
       "      <td>CKS2</td>\n",
       "      <td>4</td>\n",
       "      <td>6</td>\n",
       "      <td>UBE2C</td>\n",
       "      <td>4</td>\n",
       "      <td>6</td>\n",
       "      <td>0.97</td>\n",
       "    </tr>\n",
       "    <tr>\n",
       "      <th>58</th>\n",
       "      <td>BUB1B</td>\n",
       "      <td>4</td>\n",
       "      <td>6</td>\n",
       "      <td>CHEK1</td>\n",
       "      <td>4</td>\n",
       "      <td>6</td>\n",
       "      <td>1.00</td>\n",
       "    </tr>\n",
       "    <tr>\n",
       "      <th>64</th>\n",
       "      <td>PCNA</td>\n",
       "      <td>4</td>\n",
       "      <td>6</td>\n",
       "      <td>CHEK1</td>\n",
       "      <td>4</td>\n",
       "      <td>6</td>\n",
       "      <td>0.99</td>\n",
       "    </tr>\n",
       "    <tr>\n",
       "      <th>66</th>\n",
       "      <td>CCNA2</td>\n",
       "      <td>4</td>\n",
       "      <td>6</td>\n",
       "      <td>CHEK1</td>\n",
       "      <td>4</td>\n",
       "      <td>6</td>\n",
       "      <td>0.98</td>\n",
       "    </tr>\n",
       "  </tbody>\n",
       "</table>\n",
       "</div>"
      ],
      "text/plain": [
       "   gene_symbol_a  a_start  a_end gene_symbol_b  b_start  b_end  prob\n",
       "6          BUB1B        4      6         UBE2C        4      6  1.00\n",
       "20          CKS2        4      6         UBE2C        4      6  0.97\n",
       "58         BUB1B        4      6         CHEK1        4      6  1.00\n",
       "64          PCNA        4      6         CHEK1        4      6  0.99\n",
       "66         CCNA2        4      6         CHEK1        4      6  0.98"
      ]
     },
     "execution_count": 220,
     "metadata": {},
     "output_type": "execute_result"
    }
   ],
   "source": [
    "interaction_dataframe = interaction_dataframe.copy()\n",
    "interaction_dataframe['a_start'] = 4\n",
    "interaction_dataframe['a_end'] = 6\n",
    "interaction_dataframe['b_start'] = 4\n",
    "interaction_dataframe['b_end'] = 6\n",
    "interaction_dataframe['prob'] = [np.nan if rowData['gene_symbol_a']==rowData['gene_symbol_b'] else rowData['prob'] for index, rowData in interaction_dataframe.iterrows()]\n",
    "interaction_dataframe = interaction_dataframe[['gene_symbol_a', 'a_start', 'a_end', 'gene_symbol_b', 'b_start', 'b_end', 'prob']].query('prob>0.9')\n",
    "print interaction_dataframe.shape\n",
    "interaction_dataframe.head()"
   ]
  },
  {
   "cell_type": "code",
   "execution_count": 221,
   "metadata": {
    "collapsed": true
   },
   "outputs": [],
   "source": [
    "interaction_dataframe.to_csv('./data/preppi_predictions.txt', index=False)"
   ]
  },
  {
   "cell_type": "markdown",
   "metadata": {},
   "source": [
    "##### Position"
   ]
  },
  {
   "cell_type": "code",
   "execution_count": 270,
   "metadata": {},
   "outputs": [
    {
     "data": {
      "text/html": [
       "<div>\n",
       "<table border=\"1\" class=\"dataframe\">\n",
       "  <thead>\n",
       "    <tr style=\"text-align: right;\">\n",
       "      <th>gene_symbol_b</th>\n",
       "      <th>ARHGAP6</th>\n",
       "      <th>ASF1B</th>\n",
       "      <th>AURKA</th>\n",
       "      <th>BUB1B</th>\n",
       "      <th>CCNA2</th>\n",
       "      <th>CDK2</th>\n",
       "      <th>CDK4</th>\n",
       "      <th>CENPF</th>\n",
       "      <th>CHEK1</th>\n",
       "      <th>CKS2</th>\n",
       "      <th>...</th>\n",
       "      <th>DEPDC1</th>\n",
       "      <th>BRIP1</th>\n",
       "      <th>CENPK</th>\n",
       "      <th>TMPO</th>\n",
       "      <th>PHTF2</th>\n",
       "      <th>EZH2</th>\n",
       "      <th>PTTG1</th>\n",
       "      <th>SPAG5</th>\n",
       "      <th>RACGAP1</th>\n",
       "      <th>ATAD2</th>\n",
       "    </tr>\n",
       "    <tr>\n",
       "      <th>gene_symbol_b</th>\n",
       "      <th></th>\n",
       "      <th></th>\n",
       "      <th></th>\n",
       "      <th></th>\n",
       "      <th></th>\n",
       "      <th></th>\n",
       "      <th></th>\n",
       "      <th></th>\n",
       "      <th></th>\n",
       "      <th></th>\n",
       "      <th></th>\n",
       "      <th></th>\n",
       "      <th></th>\n",
       "      <th></th>\n",
       "      <th></th>\n",
       "      <th></th>\n",
       "      <th></th>\n",
       "      <th></th>\n",
       "      <th></th>\n",
       "      <th></th>\n",
       "      <th></th>\n",
       "    </tr>\n",
       "  </thead>\n",
       "  <tbody>\n",
       "    <tr>\n",
       "      <th>ARHGAP6</th>\n",
       "      <td>0.953143</td>\n",
       "      <td>1.498573</td>\n",
       "      <td>0.094156</td>\n",
       "      <td>1.744418</td>\n",
       "      <td>0.629579</td>\n",
       "      <td>0.312985</td>\n",
       "      <td>0.334917</td>\n",
       "      <td>-0.073231</td>\n",
       "      <td>0.139364</td>\n",
       "      <td>0.790852</td>\n",
       "      <td>...</td>\n",
       "      <td>1.965648</td>\n",
       "      <td>0.271002</td>\n",
       "      <td>2.063105</td>\n",
       "      <td>-2.112843</td>\n",
       "      <td>-1.275408</td>\n",
       "      <td>1.485325</td>\n",
       "      <td>0.815959</td>\n",
       "      <td>0.316465</td>\n",
       "      <td>1.153234</td>\n",
       "      <td>0.020715</td>\n",
       "    </tr>\n",
       "    <tr>\n",
       "      <th>ASF1B</th>\n",
       "      <td>0.066977</td>\n",
       "      <td>-0.206971</td>\n",
       "      <td>0.672853</td>\n",
       "      <td>1.014477</td>\n",
       "      <td>0.137321</td>\n",
       "      <td>0.159817</td>\n",
       "      <td>-0.048134</td>\n",
       "      <td>2.352372</td>\n",
       "      <td>1.400957</td>\n",
       "      <td>1.259876</td>\n",
       "      <td>...</td>\n",
       "      <td>1.254568</td>\n",
       "      <td>0.894785</td>\n",
       "      <td>-0.644663</td>\n",
       "      <td>-0.284024</td>\n",
       "      <td>-0.850976</td>\n",
       "      <td>-0.313718</td>\n",
       "      <td>-1.457859</td>\n",
       "      <td>-0.023838</td>\n",
       "      <td>0.602711</td>\n",
       "      <td>0.276368</td>\n",
       "    </tr>\n",
       "    <tr>\n",
       "      <th>AURKA</th>\n",
       "      <td>-0.197975</td>\n",
       "      <td>-0.514296</td>\n",
       "      <td>0.126037</td>\n",
       "      <td>-0.037838</td>\n",
       "      <td>1.776414</td>\n",
       "      <td>0.634710</td>\n",
       "      <td>0.095992</td>\n",
       "      <td>-2.411787</td>\n",
       "      <td>0.329076</td>\n",
       "      <td>-0.533269</td>\n",
       "      <td>...</td>\n",
       "      <td>0.617136</td>\n",
       "      <td>1.528839</td>\n",
       "      <td>1.025082</td>\n",
       "      <td>-0.195862</td>\n",
       "      <td>0.777232</td>\n",
       "      <td>0.979037</td>\n",
       "      <td>0.540651</td>\n",
       "      <td>0.812170</td>\n",
       "      <td>-0.140928</td>\n",
       "      <td>-0.184275</td>\n",
       "    </tr>\n",
       "    <tr>\n",
       "      <th>BUB1B</th>\n",
       "      <td>1.812513</td>\n",
       "      <td>0.934801</td>\n",
       "      <td>0.256805</td>\n",
       "      <td>0.981835</td>\n",
       "      <td>-0.732948</td>\n",
       "      <td>0.187817</td>\n",
       "      <td>-0.075188</td>\n",
       "      <td>-1.311472</td>\n",
       "      <td>1.494599</td>\n",
       "      <td>0.555260</td>\n",
       "      <td>...</td>\n",
       "      <td>0.368606</td>\n",
       "      <td>0.940482</td>\n",
       "      <td>-0.807120</td>\n",
       "      <td>1.308208</td>\n",
       "      <td>0.003224</td>\n",
       "      <td>1.255579</td>\n",
       "      <td>-0.592971</td>\n",
       "      <td>2.808769</td>\n",
       "      <td>2.189124</td>\n",
       "      <td>1.784521</td>\n",
       "    </tr>\n",
       "    <tr>\n",
       "      <th>CCNA2</th>\n",
       "      <td>-0.104291</td>\n",
       "      <td>0.423547</td>\n",
       "      <td>-0.138835</td>\n",
       "      <td>-0.370545</td>\n",
       "      <td>-2.017004</td>\n",
       "      <td>0.084106</td>\n",
       "      <td>-0.004705</td>\n",
       "      <td>-0.304591</td>\n",
       "      <td>-0.316175</td>\n",
       "      <td>-0.278780</td>\n",
       "      <td>...</td>\n",
       "      <td>-0.634049</td>\n",
       "      <td>-0.019848</td>\n",
       "      <td>1.013414</td>\n",
       "      <td>0.598073</td>\n",
       "      <td>2.403273</td>\n",
       "      <td>1.392028</td>\n",
       "      <td>0.588767</td>\n",
       "      <td>1.494880</td>\n",
       "      <td>1.051258</td>\n",
       "      <td>-0.105044</td>\n",
       "    </tr>\n",
       "  </tbody>\n",
       "</table>\n",
       "<p>5 rows × 75 columns</p>\n",
       "</div>"
      ],
      "text/plain": [
       "gene_symbol_b   ARHGAP6     ASF1B     AURKA     BUB1B     CCNA2      CDK2  \\\n",
       "gene_symbol_b                                                               \n",
       "ARHGAP6        0.953143  1.498573  0.094156  1.744418  0.629579  0.312985   \n",
       "ASF1B          0.066977 -0.206971  0.672853  1.014477  0.137321  0.159817   \n",
       "AURKA         -0.197975 -0.514296  0.126037 -0.037838  1.776414  0.634710   \n",
       "BUB1B          1.812513  0.934801  0.256805  0.981835 -0.732948  0.187817   \n",
       "CCNA2         -0.104291  0.423547 -0.138835 -0.370545 -2.017004  0.084106   \n",
       "\n",
       "gene_symbol_b      CDK4     CENPF     CHEK1      CKS2    ...       DEPDC1  \\\n",
       "gene_symbol_b                                            ...                \n",
       "ARHGAP6        0.334917 -0.073231  0.139364  0.790852    ...     1.965648   \n",
       "ASF1B         -0.048134  2.352372  1.400957  1.259876    ...     1.254568   \n",
       "AURKA          0.095992 -2.411787  0.329076 -0.533269    ...     0.617136   \n",
       "BUB1B         -0.075188 -1.311472  1.494599  0.555260    ...     0.368606   \n",
       "CCNA2         -0.004705 -0.304591 -0.316175 -0.278780    ...    -0.634049   \n",
       "\n",
       "gene_symbol_b     BRIP1     CENPK      TMPO     PHTF2      EZH2     PTTG1  \\\n",
       "gene_symbol_b                                                               \n",
       "ARHGAP6        0.271002  2.063105 -2.112843 -1.275408  1.485325  0.815959   \n",
       "ASF1B          0.894785 -0.644663 -0.284024 -0.850976 -0.313718 -1.457859   \n",
       "AURKA          1.528839  1.025082 -0.195862  0.777232  0.979037  0.540651   \n",
       "BUB1B          0.940482 -0.807120  1.308208  0.003224  1.255579 -0.592971   \n",
       "CCNA2         -0.019848  1.013414  0.598073  2.403273  1.392028  0.588767   \n",
       "\n",
       "gene_symbol_b     SPAG5   RACGAP1     ATAD2  \n",
       "gene_symbol_b                                \n",
       "ARHGAP6        0.316465  1.153234  0.020715  \n",
       "ASF1B         -0.023838  0.602711  0.276368  \n",
       "AURKA          0.812170 -0.140928 -0.184275  \n",
       "BUB1B          2.808769  2.189124  1.784521  \n",
       "CCNA2          1.494880  1.051258 -0.105044  \n",
       "\n",
       "[5 rows x 75 columns]"
      ]
     },
     "execution_count": 270,
     "metadata": {},
     "output_type": "execute_result"
    }
   ],
   "source": [
    "gene_correlation_dataframe = pd.pivot_table(interaction_dataframe, index='gene_symbol_a', columns='gene_symbol_b', values='prob').fillna(0).corr()\n",
    "for gene_symbol in gene_dataframe['gene_symbol']:\n",
    "    if gene_symbol not in gene_correlation_dataframe.columns:\n",
    "        gene_correlation_dataframe[gene_symbol] = [random.random() for x in range(len(gene_correlation_dataframe.index))]\n",
    "        gene_correlation_dataframe.loc[gene_symbol] = [random.random() for x in range(len(gene_correlation_dataframe.columns))]\n",
    "np.fill_diagonal(gene_correlation_dataframe.values, 0)\n",
    "\n",
    "for i in gene_correlation_dataframe.index:\n",
    "    gene_correlation_dataframe.loc[i] = gene_correlation_dataframe.loc[i]+np.random.normal(0,1.1,len(gene_correlation_dataframe.index))\n",
    "    \n",
    "from sklearn.decomposition import PCA\n",
    "pca = PCA(n_components=1)\n",
    "pca.fit(gene_correlation_dataframe)\n",
    "\n",
    "pc_df = pd.Series(index=gene_correlation_dataframe.index, data=pca.components_[0]).rename('pc1').sort_values().to_frame()\n",
    "sorted_genes = pc_df.index.tolist()\n",
    "pc_df.head()\n",
    "\n",
    "with open('data/genes.json', 'w') as openfile:\n",
    "    openfile.write(json.dumps(gene_dataframe.set_index('gene_symbol').loc[sorted_genes].to_dict(orient='records'), indent=4))\n",
    "gene_correlation_dataframe.head()"
   ]
  },
  {
   "cell_type": "code",
   "execution_count": 268,
   "metadata": {},
   "outputs": [
    {
     "ename": "SyntaxError",
     "evalue": "invalid syntax (<ipython-input-268-372b5bd3996a>, line 1)",
     "output_type": "error",
     "traceback": [
      "\u001b[0;36m  File \u001b[0;32m\"<ipython-input-268-372b5bd3996a>\"\u001b[0;36m, line \u001b[0;32m1\u001b[0m\n\u001b[0;31m    var data = [\u001b[0m\n\u001b[0m           ^\u001b[0m\n\u001b[0;31mSyntaxError\u001b[0m\u001b[0;31m:\u001b[0m invalid syntax\n"
     ]
    }
   ],
   "source": [
    "var data = [\n",
    "    // sourceId, sourceStart, sourceEnd, targetId, targetStart, targetEnd\n",
    "    ['january', 1, 12, 'april', 18, 20],\n",
    "    ['february', 20, 28, 'december', 1, 13],\n",
    "];"
   ]
  },
  {
   "cell_type": "markdown",
   "metadata": {},
   "source": [
    "##### Similarity"
   ]
  },
  {
   "cell_type": "code",
   "execution_count": null,
   "metadata": {
    "collapsed": true
   },
   "outputs": [],
   "source": []
  }
 ],
 "metadata": {
  "kernelspec": {
   "display_name": "Python 2",
   "language": "python",
   "name": "python2"
  },
  "language_info": {
   "codemirror_mode": {
    "name": "ipython",
    "version": 2
   },
   "file_extension": ".py",
   "mimetype": "text/x-python",
   "name": "python",
   "nbconvert_exporter": "python",
   "pygments_lexer": "ipython2",
   "version": "2.7.10"
  }
 },
 "nbformat": 4,
 "nbformat_minor": 2
}
